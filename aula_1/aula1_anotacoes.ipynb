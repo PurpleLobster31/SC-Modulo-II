{
 "cells": [
  {
   "cell_type": "markdown",
   "metadata": {},
   "source": [
    "# NumPy"
   ]
  },
  {
   "cell_type": "markdown",
   "metadata": {},
   "source": [
    "- Biblioteca fundamental para computação numérica em Python, oferecendo estruturas de dados eficientes, como arrays multidimensionais, e operações matemáticas otimizadas.\n",
    "- Operações do NumPy são muito mais eficientes do que operações baseadas em listas nativas do Python."
   ]
  },
  {
   "cell_type": "code",
   "execution_count": 5,
   "metadata": {},
   "outputs": [],
   "source": [
    "import numpy as np\n",
    "import time\n",
    "import matplotlib as plt"
   ]
  },
  {
   "cell_type": "code",
   "execution_count": 8,
   "metadata": {},
   "outputs": [],
   "source": [
    "tamanhos = [10**i for i in range(2,9)]\n",
    "\n",
    "tempos_nao_vetorizados = []\n",
    "tempos_vetorizados = []\n",
    "\n",
    "for tamanho in tamanhos:\n",
    "    #Criar conjunto de dados\n",
    "    dados = np.random.rand(tamanho)\n",
    "    \n",
    "    #Operação Não Vetorizada\n",
    "    start_time = time.time()\n",
    "    resultado_nao_vetorizado = []\n",
    "    for elemento in dados:\n",
    "        resultado_nao_vetorizado.append(elemento ** 2)\n",
    "    tempo_nao_vetorizado = time.time() - start_time\n",
    "    tempos_nao_vetorizados.append(tempo_nao_vetorizado)\n",
    "    \n",
    "    #Operação vetorizada\n",
    "    start_time = time.time()\n",
    "    resultado_vetorizado = dados ** 2\n",
    "    tempo_vetorizado = time.time() - start_time\n",
    "    tempos_vetorizados.append(tempo_vetorizado)"
   ]
  },
  {
   "cell_type": "markdown",
   "metadata": {},
   "source": [
    "## ndarray"
   ]
  },
  {
   "cell_type": "code",
   "execution_count": 10,
   "metadata": {},
   "outputs": [
    {
     "name": "stdout",
     "output_type": "stream",
     "text": [
      "[1, 2, 3]\n",
      "[1 2 3]\n"
     ]
    },
    {
     "data": {
      "text/plain": [
       "numpy.ndarray"
      ]
     },
     "execution_count": 10,
     "metadata": {},
     "output_type": "execute_result"
    }
   ],
   "source": [
    "var = [1,2,3]\n",
    "print(var)\n",
    "\n",
    "var_2 = np.array([1,2,3])\n",
    "print(var_2)\n",
    "\n",
    "type(var_2)"
   ]
  },
  {
   "cell_type": "markdown",
   "metadata": {},
   "source": [
    "Os ndarrays possuem tipagem estática. Todos os elementos de um array precisam ter o mesmo tipo de dado."
   ]
  },
  {
   "cell_type": "code",
   "execution_count": 11,
   "metadata": {},
   "outputs": [
    {
     "name": "stdout",
     "output_type": "stream",
     "text": [
      "<class 'int'>\n",
      "<class 'float'>\n",
      "<class 'str'>\n",
      "<class 'bool'>\n"
     ]
    }
   ],
   "source": [
    "vetor = [10, 3.14, \"Matheus\", False]\n",
    "(print(type(vetor[0])))\n",
    "(print(type(vetor[1])))\n",
    "(print(type(vetor[2])))\n",
    "(print(type(vetor[3])))"
   ]
  },
  {
   "cell_type": "code",
   "execution_count": 16,
   "metadata": {},
   "outputs": [
    {
     "name": "stdout",
     "output_type": "stream",
     "text": [
      "<class 'numpy.str_'>\n",
      "<class 'numpy.str_'>\n",
      "<class 'numpy.str_'>\n",
      "<class 'numpy.str_'>\n"
     ]
    }
   ],
   "source": [
    "vetor_2 = np.array([10, 3.14, \"Matheus\", False])\n",
    "print(type(vetor_2[0]))\n",
    "print(type(vetor_2[1]))\n",
    "print(type(vetor_2[2]))\n",
    "print(type(vetor_2[3]))"
   ]
  },
  {
   "cell_type": "markdown",
   "metadata": {},
   "source": [
    "O numpy faz uma coerção automática de tipos para garantir que todos os elementos tenham o mesmo tipo."
   ]
  },
  {
   "cell_type": "code",
   "execution_count": 17,
   "metadata": {},
   "outputs": [
    {
     "name": "stdout",
     "output_type": "stream",
     "text": [
      "['10' '3.14' 'Matheus' 'False']\n"
     ]
    }
   ],
   "source": [
    "print(vetor_2)"
   ]
  },
  {
   "cell_type": "code",
   "execution_count": 18,
   "metadata": {},
   "outputs": [],
   "source": [
    "teste = np.array([10,15,20])"
   ]
  },
  {
   "cell_type": "code",
   "execution_count": 19,
   "metadata": {},
   "outputs": [
    {
     "data": {
      "text/plain": [
       "25"
      ]
     },
     "execution_count": 19,
     "metadata": {},
     "output_type": "execute_result"
    }
   ],
   "source": [
    "teste[0] + teste[1]"
   ]
  },
  {
   "cell_type": "code",
   "execution_count": 21,
   "metadata": {},
   "outputs": [],
   "source": [
    "teste[2] = 100"
   ]
  },
  {
   "cell_type": "code",
   "execution_count": 24,
   "metadata": {},
   "outputs": [
    {
     "name": "stdout",
     "output_type": "stream",
     "text": [
      "[[10 20]\n",
      " [30 40]\n",
      " [50 60]]\n"
     ]
    }
   ],
   "source": [
    "matriz = np.array([[10,20], [30,40], [50,60]])\n",
    "print(matriz)"
   ]
  },
  {
   "cell_type": "code",
   "execution_count": 26,
   "metadata": {},
   "outputs": [
    {
     "name": "stdout",
     "output_type": "stream",
     "text": [
      "[[[ 10  20]\n",
      "  [ 30  40]]\n",
      "\n",
      " [[ 50  60]\n",
      "  [ 70  80]]\n",
      "\n",
      " [[ 90 100]\n",
      "  [110 120]]]\n"
     ]
    }
   ],
   "source": [
    "tensor = np.array([[[10, 20], [30, 40]], [[50,60], [70, 80]], [[90, 100], [110, 120]]])\n",
    "print(tensor)"
   ]
  }
 ],
 "metadata": {
  "kernelspec": {
   "display_name": "Python 3",
   "language": "python",
   "name": "python3"
  },
  "language_info": {
   "codemirror_mode": {
    "name": "ipython",
    "version": 3
   },
   "file_extension": ".py",
   "mimetype": "text/x-python",
   "name": "python",
   "nbconvert_exporter": "python",
   "pygments_lexer": "ipython3",
   "version": "3.11.5"
  }
 },
 "nbformat": 4,
 "nbformat_minor": 2
}
