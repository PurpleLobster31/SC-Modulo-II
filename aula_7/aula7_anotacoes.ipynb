{
 "cells": [
  {
   "cell_type": "markdown",
   "metadata": {},
   "source": [
    "# Pandas"
   ]
  },
  {
   "cell_type": "markdown",
   "metadata": {},
   "source": [
    "## Exercicios Series"
   ]
  },
  {
   "cell_type": "markdown",
   "metadata": {},
   "source": [
    "#### Exercicio 1"
   ]
  },
  {
   "cell_type": "markdown",
   "metadata": {},
   "source": [
    "Maria está acompanhando suas despesas diárias ao longo de um mês. Pra isso, ela tem as seguintes series:\n",
    "\n",
    "\n",
    "```\n",
    "dias_da_semana = ['Seg', 'Ter', 'Qua', 'Qui', 'Sex', 'Sab', 'Dom']\n",
    "semana1 = pd.Series([50, 66, 55, 55, 23, np.nan, 92], index=dias_da_semana)\n",
    "semana2 = pd.Series([np.nan, 78, 76, 66, 64, 44, 78], index=dias_da_semana)\n",
    "semana3 = pd.Series([55, 75, 89, 77, 78, 57, np.nan], index=dias_da_semana)\n",
    "semana4 = pd.Series([67, 34, np.nan, 25, 45, np.nan, 95], index=dias_da_semana)\n",
    "\n",
    "```\n",
    "\n",
    "Como você pode ver, para cada uma destas semanas, há um ou mais valores faltando. Dito isto:\n",
    "- Preencha cada valor faltante com a média do mesmo dia da semana para o conjunto das 4 semanas.\n",
    "- Para cada semana, imprima o gasto total, o gasto médio, o gasto mediano, o gasto máximo, o gasto mínimo e o desvio padrão.\n",
    "- Para cada semana, imprima o gasto total dos dias úteis e o gasto total do final de semana."
   ]
  },
  {
   "cell_type": "code",
   "execution_count": 16,
   "metadata": {},
   "outputs": [],
   "source": [
    "import numpy as np\n",
    "import pandas as pd"
   ]
  },
  {
   "cell_type": "code",
   "execution_count": 17,
   "metadata": {},
   "outputs": [],
   "source": [
    "dias_da_semana = ['Seg', 'Ter', 'Qua', 'Qui', 'Sex', 'Sab', 'Dom']\n",
    "semana1 = pd.Series([50, 66, 55, 55, 23, np.nan, 92], index=dias_da_semana)\n",
    "semana2 = pd.Series([np.nan, 78, 76, 66, 64, 44, 78], index=dias_da_semana)\n",
    "semana3 = pd.Series([55, 75, 89, 77, 78, 57, np.nan], index=dias_da_semana)\n",
    "semana4 = pd.Series([67, 34, np.nan, 25, 45, np.nan, 95], index=dias_da_semana)"
   ]
  },
  {
   "cell_type": "code",
   "execution_count": 18,
   "metadata": {},
   "outputs": [],
   "source": [
    "media_dia_da_semana = []\n",
    "\n",
    "for i in range(0, len(dias_da_semana)):\n",
    "    media_dia_da_semana.append(pd.Series([semana1.iloc[i], semana2.iloc[i], semana3.iloc[i], semana4.iloc[i]]).mean())"
   ]
  },
  {
   "cell_type": "code",
   "execution_count": 19,
   "metadata": {},
   "outputs": [],
   "source": [
    "semanas = [semana1, semana2, semana3, semana4]\n",
    "for i in range(0, len(dias_da_semana)):\n",
    "    for semana in semanas:\n",
    "        if np.isnan(semana.iloc[i]):\n",
    "            semana.iloc[i] = media_dia_da_semana[i]"
   ]
  },
  {
   "cell_type": "code",
   "execution_count": null,
   "metadata": {},
   "outputs": [],
   "source": [
    "for semana in semanas:\n",
    "    print('')\n",
    "    print(semana.sum())\n",
    "    print(semana.mean())\n",
    "    print(semana.median())\n",
    "    print(semana.max())\n",
    "    print(semana.min())\n",
    "    print(semana.std())"
   ]
  },
  {
   "cell_type": "code",
   "execution_count": null,
   "metadata": {},
   "outputs": [],
   "source": [
    "for semana in semanas:\n",
    "    print('')\n",
    "    print(semana.iloc[:-2].sum())\n",
    "    print(semana.iloc[-2:].sum())"
   ]
  },
  {
   "cell_type": "code",
   "execution_count": 40,
   "metadata": {},
   "outputs": [
    {
     "name": "stdout",
     "output_type": "stream",
     "text": [
      "\n",
      "391.5\n",
      "55.92857142857143\n",
      "55.0\n",
      "92.0\n",
      "23.0\n",
      "20.62851701615301\n",
      "\n",
      "463.33333333333337\n",
      "66.19047619047619\n",
      "66.0\n",
      "78.0\n",
      "44.0\n",
      "12.58873267951109\n",
      "\n",
      "519.3333333333334\n",
      "74.19047619047619\n",
      "77.0\n",
      "89.0\n",
      "55.0\n",
      "13.578110301698073\n",
      "\n",
      "389.8333333333333\n",
      "55.69047619047619\n",
      "50.5\n",
      "95.0\n",
      "25.0\n",
      "24.283134783644282\n",
      "\n",
      "249.0\n",
      "142.5\n",
      "\n",
      "341.33333333333337\n",
      "122.0\n",
      "\n",
      "374.0\n",
      "145.33333333333331\n",
      "\n",
      "244.33333333333331\n",
      "145.5\n"
     ]
    }
   ],
   "source": [
    "# Resolução professor:\n",
    "media_por_dia_semana = pd.Series()\n",
    "for dia in dias_da_semana:\n",
    "    media_por_dia_semana.loc[dia] = pd.Series([semana1.loc[dia], semana2.loc[dia], semana3.loc[dia], semana4.loc[dia]]).mean()\n",
    "    \n",
    "for dia in dias_da_semana:\n",
    "    for semana in semanas:\n",
    "        if(np.isnan(semana.loc[dia])):\n",
    "            semana.loc[dia] = media_por_dia_semana.loc[dia]\n",
    "\n",
    "for semana in semanas:\n",
    "    print('')\n",
    "    print(semana.sum())\n",
    "    print(semana.mean())\n",
    "    print(semana.median())\n",
    "    print(semana.max())\n",
    "    print(semana.min())\n",
    "    print(semana.std())\n",
    "    \n",
    "for semana in semanas:\n",
    "    print('')\n",
    "    print(semana.loc['Seg':'Sex'].sum())\n",
    "    print(semana.loc['Sab':'Dom'].sum())"
   ]
  },
  {
   "cell_type": "markdown",
   "metadata": {},
   "source": [
    "#### Exercicio 2"
   ]
  },
  {
   "cell_type": "markdown",
   "metadata": {},
   "source": [
    "Você tem uma serie chamada `clientes` com mil posições que retratam os tomadores de crédito do seu banco e que os divide nas categorias 'cliente novo', 'cliente adimplente' e 'cliente inadimplente'. Considere o código abaixo como gerador desta lista:\n",
    "\n",
    "```\n",
    "valores_possiveis = ['cliente novo', 'cliente adimplente', 'cliente inadimplente']\n",
    "probabilidades = np.random.dirichlet(np.ones(len(valores_possiveis)), size=1).flatten()\n",
    "clientes = pd.Series(np.random.choice(valores_possiveis, size=1000, p=probabilidades))\n",
    "```\n",
    "\n",
    "Descubra como os clientes desta serie estão distribuídos nas três categorias, primeiro em valores absolutos e depois em valores percentuais."
   ]
  },
  {
   "cell_type": "code",
   "execution_count": 24,
   "metadata": {},
   "outputs": [],
   "source": [
    "valores_possiveis = ['cliente novo', 'cliente adimplente', 'cliente inadimplente']\n",
    "probabilidades = np.random.dirichlet(np.ones(len(valores_possiveis)), size=1).flatten()\n",
    "clientes = pd.Series(np.random.choice(valores_possiveis, size=1000, p=probabilidades))"
   ]
  },
  {
   "cell_type": "code",
   "execution_count": 29,
   "metadata": {},
   "outputs": [
    {
     "name": "stdout",
     "output_type": "stream",
     "text": [
      "Distribuição absoluta: \n",
      "cliente adimplente      803\n",
      "cliente inadimplente    114\n",
      "cliente novo             83\n",
      "Name: count, dtype: int64\n",
      "Porcentagens:\n",
      "cliente adimplente      0.803\n",
      "cliente inadimplente    0.114\n",
      "cliente novo            0.083\n",
      "Name: proportion, dtype: float64\n"
     ]
    }
   ],
   "source": [
    "print(f\"Distribuição absoluta: \\n{clientes.value_counts()}\")\n",
    "print(f\"Porcentagens:\\n{clientes.value_counts(True)}\")"
   ]
  },
  {
   "cell_type": "markdown",
   "metadata": {},
   "source": [
    "#### Exercicio 3"
   ]
  },
  {
   "cell_type": "markdown",
   "metadata": {},
   "source": [
    "João é um gerente de uma loja de eletrônicos e está acompanhando o estoque de produtos em sua loja. Ele possui duas séries pandas, conforme o código a seguir: uma série contendo os nomes dos produtos disponíveis em estoque e outra série contendo a quantidade em estoque de cada produto.\n",
    "\n",
    "```\n",
    "produtos = pd.Series(['Celular', 'Tablet', 'Notebook', 'Fone de Ouvido', 'Smartwatch'])\n",
    "quantidade_estoque = pd.Series([15, 8, 20, 5, 12])\n",
    "```\n",
    "\n",
    "João deseja filtrar os produtos que têm estoque baixo, ou seja, aqueles que têm menos de 10 unidades disponíveis. Ajude-o a fazer isso utilizando a filtragem de uma série usando outra série como máscara."
   ]
  },
  {
   "cell_type": "code",
   "execution_count": 30,
   "metadata": {},
   "outputs": [],
   "source": [
    "produtos = pd.Series(['Celular', 'Tablet', 'Notebook', 'Fone de Ouvido', 'Smartwatch'])\n",
    "quantidade_estoque = pd.Series([15, 8, 20, 5, 12])"
   ]
  },
  {
   "cell_type": "code",
   "execution_count": 34,
   "metadata": {},
   "outputs": [
    {
     "data": {
      "text/plain": [
       "1            Tablet\n",
       "3    Fone de Ouvido\n",
       "dtype: object"
      ]
     },
     "execution_count": 34,
     "metadata": {},
     "output_type": "execute_result"
    }
   ],
   "source": [
    "mask = quantidade_estoque<10\n",
    "produtos[mask]"
   ]
  },
  {
   "cell_type": "markdown",
   "metadata": {},
   "source": [
    "## DataFrames"
   ]
  },
  {
   "cell_type": "code",
   "execution_count": null,
   "metadata": {},
   "outputs": [],
   "source": []
  }
 ],
 "metadata": {
  "kernelspec": {
   "display_name": "Python 3",
   "language": "python",
   "name": "python3"
  },
  "language_info": {
   "codemirror_mode": {
    "name": "ipython",
    "version": 3
   },
   "file_extension": ".py",
   "mimetype": "text/x-python",
   "name": "python",
   "nbconvert_exporter": "python",
   "pygments_lexer": "ipython3",
   "version": "3.11.5"
  }
 },
 "nbformat": 4,
 "nbformat_minor": 2
}
