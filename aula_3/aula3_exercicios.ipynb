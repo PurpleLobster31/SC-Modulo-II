{
 "cells": [
  {
   "cell_type": "code",
   "execution_count": 14,
   "metadata": {},
   "outputs": [],
   "source": [
    "import numpy as np"
   ]
  },
  {
   "cell_type": "markdown",
   "metadata": {},
   "source": [
    " Imagine que você é um cientista de dados analisando o desempenho de duas equipes de vendas ao longo de um ano. Para cada equipe, utilize um ndarray com 6 posições para representar as vendas totais ao longo de cada um dos 6 bimestres de um ano. Preencha ambos os arrays com os valores que desejar. Em seguida, calcule a média de vendas por bimestre, e indique, para cada equipe, em quais bimestres a venda média foi ultrapassada."
   ]
  },
  {
   "cell_type": "code",
   "execution_count": 15,
   "metadata": {},
   "outputs": [
    {
     "name": "stdout",
     "output_type": "stream",
     "text": [
      "[ 92.5 114.  300.  450.  275.  217.5]\n",
      "(array([0, 1, 4, 5], dtype=int64),)\n",
      "(array([2, 3], dtype=int64),)\n"
     ]
    }
   ],
   "source": [
    "eq1 = np.array([120, 150, 200, 250, 300, 350])\n",
    "eq2 = np.array([65, 78, 400, 650, 250, 85])\n",
    "\n",
    "media_eq = (eq1+eq2)/2\n",
    "print(media_eq)\n",
    "\n",
    "print(np.where(eq1>media_eq))\n",
    "print(np.where(eq2>media_eq))"
   ]
  },
  {
   "cell_type": "markdown",
   "metadata": {},
   "source": [
    "Você trabalha em uma empresa e recebeu relatórios de despesas separados por trimestre. Considere 3 tipos de despesas: pessoal, insumos e diversos. Para cada tipo, use um ndarray para armazenar os 4 valores trimestrais de despesa que foram registrados ao longo do último ano. Depois disso, use ndarrays para descobrir as despesas totais de cada trimestre e, em seguida, organize todas as despesas em uma única estrutura de dados, empilhando os ndarrays."
   ]
  },
  {
   "cell_type": "code",
   "execution_count": 16,
   "metadata": {},
   "outputs": [
    {
     "data": {
      "text/plain": [
       "array([[ 6780,  4101,  1496,  7845],\n",
       "       [ 1038,  5681,  6745,  1974],\n",
       "       [ 4335,  5282,  3002,  2716],\n",
       "       [12153, 15064, 11243, 12535]])"
      ]
     },
     "execution_count": 16,
     "metadata": {},
     "output_type": "execute_result"
    }
   ],
   "source": [
    "pessoal = np.random.randint(10000, size = 4)\n",
    "insumos = np.random.randint(10000, size = 4)\n",
    "diversos = np.random.randint(10000, size = 4)\n",
    "\n",
    "total_trimestres = pessoal + insumos + diversos\n",
    "\n",
    "np.vstack([pessoal, insumos, diversos, total_trimestres]) \n"
   ]
  },
  {
   "cell_type": "markdown",
   "metadata": {},
   "source": [
    "Usand as despesas salvas em ndarrays no exercício anterior, use os ndarrays para descobrir as despesas totais de cada semestre, e não de cada trimestre."
   ]
  },
  {
   "cell_type": "code",
   "execution_count": 18,
   "metadata": {},
   "outputs": [
    {
     "data": {
      "text/plain": [
       "array([27217, 23778])"
      ]
     },
     "execution_count": 18,
     "metadata": {},
     "output_type": "execute_result"
    }
   ],
   "source": [
    "total_semestres = np.array([total_trimestres[[0,1]].sum(), total_trimestres[[2,3]].sum()])\n",
    "total_semestres"
   ]
  },
  {
   "cell_type": "markdown",
   "metadata": {},
   "source": [
    "**Ex4:** Considere a seguinte matriz NumPy arr:\n",
    "\n",
    "```\n",
    "arr = np.array([[1, 2, 3, 4],\n",
    "                [5, 6, 7, 8],\n",
    "                [9, 10, 11, 12]])\n",
    "```\n",
    "\n",
    "Realize as seguintes operações de slicing:\n",
    "\n",
    "- Extraia a segunda linha da matriz arr.\n",
    "- Obtenha a última coluna da matriz arr.\n",
    "- Crie uma submatriz composta pelas duas primeiras linhas e pelas duas primeiras colunas de arr.\n",
    "- Selecione os elementos 6, 7, 10 e 11 de arr."
   ]
  },
  {
   "cell_type": "code",
   "execution_count": 28,
   "metadata": {},
   "outputs": [
    {
     "name": "stdout",
     "output_type": "stream",
     "text": [
      "[5 6 7 8]\n",
      "[ 4  8 12]\n",
      "[[1 2]\n",
      " [5 6]]\n",
      "[ 6  7 10 11]\n",
      "[ 6  7 10 11]\n"
     ]
    }
   ],
   "source": [
    "arr = np.array([[1, 2, 3, 4],\n",
    "                [5, 6, 7, 8],\n",
    "                [9, 10, 11, 12]])\n",
    "\n",
    "print(arr[1,:])\n",
    "print(arr[:,-1])\n",
    "submat = arr[:2,:2]\n",
    "print(submat)\n",
    "print(arr[[1,1,2,2], [1,2,1,2]])\n",
    "print(arr[1:, 1:3].reshape((4,)))"
   ]
  },
  {
   "cell_type": "markdown",
   "metadata": {},
   "source": [
    "**Ex5:** Para a mesma matriz `arr` do exercício anterior, crie uma matriz booleana com o mesmo shape de `arr` onde True representa valores maiores que 6. E depois disso, use a matriz booleana para criar um novo ndarray contendo apenas os valores maiores que 6."
   ]
  },
  {
   "cell_type": "code",
   "execution_count": null,
   "metadata": {},
   "outputs": [
    {
     "name": "stdout",
     "output_type": "stream",
     "text": [
      "[[False False False False]\n",
      " [False False  True  True]\n",
      " [ True  True  True  True]]\n",
      "[ 7  8  9 10 11 12]\n"
     ]
    }
   ],
   "source": [
    "bool_arr = arr>6\n",
    "print(bool_arr)\n",
    "novo_arr = arr[bool_arr]\n",
    "print(novo_arr)"
   ]
  }
 ],
 "metadata": {
  "kernelspec": {
   "display_name": "Python 3",
   "language": "python",
   "name": "python3"
  },
  "language_info": {
   "codemirror_mode": {
    "name": "ipython",
    "version": 3
   },
   "file_extension": ".py",
   "mimetype": "text/x-python",
   "name": "python",
   "nbconvert_exporter": "python",
   "pygments_lexer": "ipython3",
   "version": "3.11.5"
  }
 },
 "nbformat": 4,
 "nbformat_minor": 2
}
